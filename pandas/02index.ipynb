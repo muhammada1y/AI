{
 "cells": [
  {
   "cell_type": "code",
   "execution_count": 8,
   "metadata": {},
   "outputs": [
    {
     "name": "stdout",
     "output_type": "stream",
     "text": [
      "a    3.1\n",
      "b    3.0\n",
      "c    5.0\n",
      "d    7.4\n",
      "e    7.0\n",
      "f    0.1\n",
      "g    5.0\n",
      "dtype: float64\n",
      "this is data two a    1\n",
      "b    2\n",
      "c    3\n",
      "d    4\n",
      "e    5\n",
      "f    6\n",
      "g    7\n",
      "h    8\n",
      "i    9\n",
      "dtype: int64\n"
     ]
    }
   ],
   "source": [
    "import pandas as pd\n",
    "\n",
    "value = [3.1,3,5,7.4,7,0.1,5]\n",
    "indexing = ['a','b','c','d','e','f','g']\n",
    "\n",
    "data = pd.Series(value,index=indexing)\n",
    "data2 = pd.Series([1,2,3,4,5,6,7,8,9],index=['a','b','c','d','e','f','g','h','i'])\n",
    "\n",
    "print(data)\n",
    "print(\"this is data two\", data2)"
   ]
  },
  {
   "cell_type": "code",
   "execution_count": 3,
   "metadata": {},
   "outputs": [
    {
     "name": "stdout",
     "output_type": "stream",
     "text": [
      "this is value of c 3\n",
      "a    1\n",
      "b    9\n",
      "c    3\n",
      "d    4\n",
      "e    5\n",
      "dtype: int64\n"
     ]
    }
   ],
   "source": [
    "import pandas as pd\n",
    "\n",
    "\n",
    "data = pd.Series([1,2,3,4,5],index=['a','b','c','d','e'])\n",
    "\n",
    "print(\"this is value of c\", data['c'])\n",
    "\n",
    "data['b']= 9\n",
    "\n",
    "print(data)\n"
   ]
  },
  {
   "cell_type": "code",
   "execution_count": 6,
   "metadata": {},
   "outputs": [
    {
     "name": "stdout",
     "output_type": "stream",
     "text": [
      "these numbers are grater than 5 : b    9\n",
      "dtype: int64\n"
     ]
    }
   ],
   "source": [
    "data = data[data>5]\n",
    "\n",
    "print(\"these numbers are grater than 5 :\",data)"
   ]
  },
  {
   "cell_type": "code",
   "execution_count": null,
   "metadata": {},
   "outputs": [],
   "source": []
  }
 ],
 "metadata": {
  "kernelspec": {
   "display_name": "Python 3",
   "language": "python",
   "name": "python3"
  },
  "language_info": {
   "codemirror_mode": {
    "name": "ipython",
    "version": 3
   },
   "file_extension": ".py",
   "mimetype": "text/x-python",
   "name": "python",
   "nbconvert_exporter": "python",
   "pygments_lexer": "ipython3",
   "version": "3.8.10"
  }
 },
 "nbformat": 4,
 "nbformat_minor": 2
}
