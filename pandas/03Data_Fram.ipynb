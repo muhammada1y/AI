{
 "cells": [
  {
   "cell_type": "code",
   "execution_count": 8,
   "metadata": {},
   "outputs": [
    {
     "name": "stdout",
     "output_type": "stream",
     "text": [
      "{'Product': ['Apple', 'Banana', 'Orange', 'Grapes', 'Mango'], 'Quantity': [10, 20, 15, 12, 8], 'Price': [30, 10, 20, 40, 50]}\n",
      "[10, 20, 15, 12, 8]\n",
      "[30, 10, 20, 40, 50]\n"
     ]
    }
   ],
   "source": [
    "import pandas as pd\n",
    "\n",
    "shop = {\n",
    "    'Product':['Apple', 'Banana', 'Orange', 'Grapes', 'Mango'],\n",
    "    'Quantity':[10, 20, 15, 12, 8],\n",
    "    'Price':[30, 10, 20, 40, 50]\n",
    "}\n",
    "\n",
    "\n",
    "print(shop)\n",
    "print(shop['Quantity'])\n",
    "print(shop['Price'])"
   ]
  },
  {
   "cell_type": "code",
   "execution_count": 9,
   "metadata": {},
   "outputs": [
    {
     "name": "stdout",
     "output_type": "stream",
     "text": [
      "  Product  Quantity  Price\n",
      "0   Apple        10     30\n",
      "1  Banana        20     10\n",
      "2  Orange        15     20\n",
      "3  Grapes        12     40\n",
      "4   Mango         8     50\n"
     ]
    }
   ],
   "source": [
    "dfData = pd.DataFrame({\n",
    "    'Product':['Apple', 'Banana', 'Orange', 'Grapes', 'Mango'],\n",
    "    'Quantity':[10, 20, 15, 12, 8],\n",
    "    'Price':[30, 10, 20, 40, 50]\n",
    "})\n",
    "\n",
    "print(dfData)"
   ]
  },
  {
   "cell_type": "code",
   "execution_count": 10,
   "metadata": {},
   "outputs": [
    {
     "name": "stdout",
     "output_type": "stream",
     "text": [
      "  Product  Quantity  Price\n",
      "0   Apple        10     30\n",
      "1  Banana        20     10\n",
      "2  Orange        15     20\n",
      "3  Grapes        12     40\n",
      "4   Mango         8     50\n"
     ]
    }
   ],
   "source": [
    "df = pd.DataFrame({\n",
    "    'Product': ['Apple', 'Banana', 'Orange', 'Grapes', 'Mango'],\n",
    "    'Quantity': [10, 20, 15, 12, 8],\n",
    "    'Price': [30, 10, 20, 40, 50]\n",
    "})\n",
    "\n",
    "# Print the DataFrame\n",
    "print(df)\n",
    "\n",
    "\n"
   ]
  },
  {
   "cell_type": "code",
   "execution_count": 19,
   "metadata": {},
   "outputs": [
    {
     "name": "stdout",
     "output_type": "stream",
     "text": [
      "  Product  Quantity  Price  Total_cost\n",
      "0   Apple        10     30         300\n",
      "1  Banana        20     10         200\n",
      "2  Orange        15     20         300\n",
      "3  Grapes        12     40         480\n",
      "4   Mango         8     50         400\n"
     ]
    }
   ],
   "source": [
    "\n",
    "df['Total_cost'] = df['Quantity'] * df['Price']\n",
    "\n",
    "print(df)"
   ]
  },
  {
   "cell_type": "code",
   "execution_count": 11,
   "metadata": {},
   "outputs": [
    {
     "name": "stdout",
     "output_type": "stream",
     "text": [
      "the total products of quantity : 65\n",
      "the total amount of product :30.0\n"
     ]
    }
   ],
   "source": [
    "TotalQuantity = df['Quantity'].sum()\n",
    "TotalAvrage = df['Price'].mean()\n",
    "\n",
    "\n",
    "print(f\"the total products of quantity : {TotalQuantity}\")\n",
    "print(f\"the total amount of product :{TotalAvrage}\")"
   ]
  },
  {
   "cell_type": "code",
   "execution_count": 12,
   "metadata": {},
   "outputs": [
    {
     "name": "stdout",
     "output_type": "stream",
     "text": [
      "0    10\n",
      "1    20\n",
      "2    15\n",
      "3    12\n",
      "4     8\n",
      "Name: Quantity, dtype: int64\n",
      "  Product  Quantity  Price\n",
      "2  Orange        15     20\n"
     ]
    }
   ],
   "source": [
    "quantity_column = df['Quantity']\n",
    "print(quantity_column)\n",
    "\n",
    "orange_row = df[df['Product'] == 'Orange']\n",
    "print(orange_row)"
   ]
  },
  {
   "cell_type": "code",
   "execution_count": 17,
   "metadata": {},
   "outputs": [
    {
     "name": "stdout",
     "output_type": "stream",
     "text": [
      "a    1\n",
      "b    2\n",
      "c    3\n",
      "d    4\n",
      "e    5\n",
      "dtype: int64\n"
     ]
    }
   ],
   "source": [
    "nameList = pd.Series([1,2,3,4,5], index=['a','b','c','d','e'])\n",
    "\n",
    "print(nameList)"
   ]
  },
  {
   "cell_type": "code",
   "execution_count": 18,
   "metadata": {},
   "outputs": [
    {
     "name": "stdout",
     "output_type": "stream",
     "text": [
      "3\n"
     ]
    }
   ],
   "source": [
    "getValueOfC = nameList['c']\n",
    "\n",
    "print(getValueOfC)"
   ]
  },
  {
   "cell_type": "code",
   "execution_count": 20,
   "metadata": {},
   "outputs": [
    {
     "name": "stdout",
     "output_type": "stream",
     "text": [
      "  Product  Quantity  Price  Total_cost\n",
      "3  Grapes        12     40         480\n",
      "4   Mango         8     50         400\n"
     ]
    }
   ],
   "source": [
    "filter_data = df[df['Total_cost'] > 300]\n",
    "\n",
    "print(filter_data)"
   ]
  },
  {
   "cell_type": "code",
   "execution_count": 21,
   "metadata": {},
   "outputs": [
    {
     "name": "stdout",
     "output_type": "stream",
     "text": [
      "  Product  Quantity  Price  Total_cost\n",
      "4   Mango         8     50         400\n",
      "3  Grapes        12     40         480\n",
      "0   Apple        10     30         300\n",
      "2  Orange        15     20         300\n",
      "1  Banana        20     10         200\n"
     ]
    }
   ],
   "source": [
    "sort_Data = df.sort_values(by='Price' , ascending=False)\n",
    "\n",
    "print(sort_Data)"
   ]
  },
  {
   "cell_type": "code",
   "execution_count": 22,
   "metadata": {},
   "outputs": [
    {
     "name": "stdout",
     "output_type": "stream",
     "text": [
      "<bound method NDFrame.head of   Product  Quantity  Price  Total_cost\n",
      "0   Apple        10     30         300\n",
      "1  Banana        20     10         200\n",
      "2  Orange        15     20         300\n",
      "3  Grapes        12     40         480\n",
      "4   Mango         8     50         400>\n",
      "<bound method NDFrame.tail of   Product  Quantity  Price  Total_cost\n",
      "0   Apple        10     30         300\n",
      "1  Banana        20     10         200\n",
      "2  Orange        15     20         300\n",
      "3  Grapes        12     40         480\n",
      "4   Mango         8     50         400>\n",
      "<bound method NDFrame.describe of   Product  Quantity  Price  Total_cost\n",
      "0   Apple        10     30         300\n",
      "1  Banana        20     10         200\n",
      "2  Orange        15     20         300\n",
      "3  Grapes        12     40         480\n",
      "4   Mango         8     50         400>\n"
     ]
    }
   ],
   "source": [
    "print(df.head)\n",
    "\n",
    "print(df.tail)\n",
    "\n",
    "\n",
    "print(df.describe)"
   ]
  },
  {
   "cell_type": "code",
   "execution_count": null,
   "metadata": {},
   "outputs": [],
   "source": [
    "data = {\n",
    "    'Key' : []\n",
    "}"
   ]
  }
 ],
 "metadata": {
  "kernelspec": {
   "display_name": ".venv",
   "language": "python",
   "name": "python3"
  },
  "language_info": {
   "codemirror_mode": {
    "name": "ipython",
    "version": 3
   },
   "file_extension": ".py",
   "mimetype": "text/x-python",
   "name": "python",
   "nbconvert_exporter": "python",
   "pygments_lexer": "ipython3",
   "version": "3.8.10"
  }
 },
 "nbformat": 4,
 "nbformat_minor": 2
}
