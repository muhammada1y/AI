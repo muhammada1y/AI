{
 "cells": [
  {
   "cell_type": "code",
   "execution_count": 2,
   "id": "f73462db-695b-4ad7-9623-1a006ae8c1a2",
   "metadata": {},
   "outputs": [],
   "source": [
    "length = 8\n",
    "width =5\n",
    "area = length * width"
   ]
  },
  {
   "cell_type": "code",
   "execution_count": 3,
   "id": "4d75bb1f-5611-4f38-9cce-faa5c784bb86",
   "metadata": {},
   "outputs": [
    {
     "name": "stdout",
     "output_type": "stream",
     "text": [
      "40\n"
     ]
    }
   ],
   "source": [
    "print(area)"
   ]
  },
  {
   "cell_type": "code",
   "execution_count": 4,
   "id": "243ca03c-85e2-4b83-841c-3bbff3fd2572",
   "metadata": {},
   "outputs": [],
   "source": [
    "x = 7"
   ]
  },
  {
   "cell_type": "code",
   "execution_count": 6,
   "id": "be16112c-ddda-4ec4-9ced-b9182a9778f2",
   "metadata": {},
   "outputs": [
    {
     "name": "stdout",
     "output_type": "stream",
     "text": [
      "This is my value of a number: {x}\n"
     ]
    }
   ],
   "source": [
    "print(f\"This is my value of a number: {x}\")"
   ]
  },
  {
   "cell_type": "code",
   "execution_count": 10,
   "id": "0d3b999a-63d5-4a8f-9782-7b8c872c2361",
   "metadata": {},
   "outputs": [
    {
     "name": "stdout",
     "output_type": "stream",
     "text": [
      "7---14---21---28---35\n"
     ]
    }
   ],
   "source": [
    "print(f\"{x}---{2*x}---{3*x}---{4*x}---{5*x}\")"
   ]
  },
  {
   "cell_type": "code",
   "execution_count": 12,
   "id": "371f01b0-fedc-4cc8-a127-7fc0d05331e1",
   "metadata": {},
   "outputs": [
    {
     "name": "stdin",
     "output_type": "stream",
     "text": [
      "Enter a number:  6\n"
     ]
    }
   ],
   "source": [
    "var = int(input(\"Enter a number: \"))"
   ]
  },
  {
   "cell_type": "code",
   "execution_count": 13,
   "id": "f356eba8-78df-467f-9321-e5e8df4067a5",
   "metadata": {},
   "outputs": [
    {
     "data": {
      "text/plain": [
       "36"
      ]
     },
     "execution_count": 13,
     "metadata": {},
     "output_type": "execute_result"
    }
   ],
   "source": [
    "var**2"
   ]
  },
  {
   "cell_type": "code",
   "execution_count": null,
   "id": "02c9665a-575b-40f3-8b58-b85a274b2a28",
   "metadata": {},
   "outputs": [],
   "source": []
  }
 ],
 "metadata": {
  "kernelspec": {
   "display_name": "Python 3 (ipykernel)",
   "language": "python",
   "name": "python3"
  },
  "language_info": {
   "codemirror_mode": {
    "name": "ipython",
    "version": 3
   },
   "file_extension": ".py",
   "mimetype": "text/x-python",
   "name": "python",
   "nbconvert_exporter": "python",
   "pygments_lexer": "ipython3",
   "version": "3.11.7"
  }
 },
 "nbformat": 4,
 "nbformat_minor": 5
}
