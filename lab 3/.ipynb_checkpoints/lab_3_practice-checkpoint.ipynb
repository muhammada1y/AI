{
 "cells": [
  {
   "cell_type": "code",
   "execution_count": 15,
   "id": "2fa90190-9627-4eb6-8c31-37f536694f34",
   "metadata": {},
   "outputs": [],
   "source": [
    "from random import randint"
   ]
  },
  {
   "cell_type": "code",
   "execution_count": 16,
   "id": "26e6fd93-eb9f-43f3-ad0f-e02d55016674",
   "metadata": {},
   "outputs": [],
   "source": [
    "x = randint(0, 10)"
   ]
  },
  {
   "cell_type": "code",
   "execution_count": 17,
   "id": "37fb838d-e187-4dd9-b159-845e1529bc72",
   "metadata": {},
   "outputs": [
    {
     "name": "stdout",
     "output_type": "stream",
     "text": [
      "3\n"
     ]
    }
   ],
   "source": [
    "print(x)"
   ]
  },
  {
   "cell_type": "code",
   "execution_count": 10,
   "id": "8ee271b2-f581-4a96-a883-6ff8bc005da0",
   "metadata": {},
   "outputs": [],
   "source": [
    "this_list = [\"apple\",\"banana\",\"cherry\"]"
   ]
  },
  {
   "cell_type": "code",
   "execution_count": 11,
   "id": "b4390353-cd16-4ed1-bc7e-1ebc24738e5d",
   "metadata": {},
   "outputs": [],
   "source": [
    "this_list.append(2)"
   ]
  },
  {
   "cell_type": "code",
   "execution_count": 13,
   "id": "13414d86-3950-4acc-9edd-ec5186294167",
   "metadata": {},
   "outputs": [],
   "source": [
    "this_list.insert(1, \"orange\")"
   ]
  },
  {
   "cell_type": "code",
   "execution_count": 14,
   "id": "e2872875-990a-4bc3-91f0-6d5611c27a1a",
   "metadata": {},
   "outputs": [
    {
     "name": "stdout",
     "output_type": "stream",
     "text": [
      "['apple', 'orange', 'banana', 'cherry', 2]\n"
     ]
    }
   ],
   "source": [
    "print(this_list)"
   ]
  },
  {
   "cell_type": "code",
   "execution_count": 19,
   "id": "6b464259-8801-45bf-9da1-6448499cc29d",
   "metadata": {},
   "outputs": [],
   "source": [
    "this_list.remove(2)"
   ]
  },
  {
   "cell_type": "code",
   "execution_count": 21,
   "id": "41dfabe7-f20c-48f2-a556-5a77a26ab947",
   "metadata": {},
   "outputs": [
    {
     "name": "stdout",
     "output_type": "stream",
     "text": [
      "['apple', 'orange', 'banana', 'cherry']\n"
     ]
    }
   ],
   "source": [
    "print(this_list)"
   ]
  },
  {
   "cell_type": "code",
   "execution_count": 22,
   "id": "613ca36f-24af-48bd-9141-c22b5391a1c4",
   "metadata": {},
   "outputs": [
    {
     "data": {
      "text/plain": [
       "'orange'"
      ]
     },
     "execution_count": 22,
     "metadata": {},
     "output_type": "execute_result"
    }
   ],
   "source": [
    "this_list.pop(1)"
   ]
  },
  {
   "cell_type": "code",
   "execution_count": 23,
   "id": "5c0867c1-c843-47b7-bd21-048ad61b07fb",
   "metadata": {},
   "outputs": [
    {
     "name": "stdout",
     "output_type": "stream",
     "text": [
      "['apple', 'banana', 'cherry']\n"
     ]
    }
   ],
   "source": [
    "print(this_list)"
   ]
  },
  {
   "cell_type": "code",
   "execution_count": 24,
   "id": "1c6c317f-697b-4d19-bbd8-1af56cfe93c0",
   "metadata": {},
   "outputs": [
    {
     "data": {
      "text/plain": [
       "'cherry'"
      ]
     },
     "execution_count": 24,
     "metadata": {},
     "output_type": "execute_result"
    }
   ],
   "source": [
    "this_list.pop()"
   ]
  },
  {
   "cell_type": "code",
   "execution_count": 27,
   "id": "487c81e9-bdf8-4fbf-8539-4e20c78063e4",
   "metadata": {},
   "outputs": [
    {
     "data": {
      "text/plain": [
       "1"
      ]
     },
     "execution_count": 27,
     "metadata": {},
     "output_type": "execute_result"
    }
   ],
   "source": [
    "this_list.count(\"apple\")"
   ]
  },
  {
   "cell_type": "code",
   "execution_count": 28,
   "id": "0e77f7a1-fc6f-4e7b-8448-a852b352e444",
   "metadata": {},
   "outputs": [],
   "source": [
    "m_dict = {\"brnad\":\"Nike\", \"model\":\"xz3\", \"year\":1965}"
   ]
  },
  {
   "cell_type": "code",
   "execution_count": 29,
   "id": "6cef469c-392e-4044-bed0-b1be41fcc098",
   "metadata": {},
   "outputs": [
    {
     "data": {
      "text/plain": [
       "dict_items([('brnad', 'Nike'), ('model', 'xz3'), ('year', 1965)])"
      ]
     },
     "execution_count": 29,
     "metadata": {},
     "output_type": "execute_result"
    }
   ],
   "source": [
    "m_dict.items()"
   ]
  },
  {
   "cell_type": "code",
   "execution_count": 30,
   "id": "3c24455a-fcd4-4f94-bee6-d9281dba2b15",
   "metadata": {},
   "outputs": [
    {
     "name": "stdout",
     "output_type": "stream",
     "text": [
      "brnad\n",
      "\n",
      " Nike\n",
      "model\n",
      "\n",
      " xz3\n",
      "year\n",
      "\n",
      " 1965\n"
     ]
    }
   ],
   "source": [
    "for i,j in m_dict.items():\n",
    "    print(i)\n",
    "    print(\"\\n\", j)"
   ]
  },
  {
   "cell_type": "code",
   "execution_count": 32,
   "id": "8dbf7b81-f1da-43b0-9fd3-d990f1cda082",
   "metadata": {},
   "outputs": [],
   "source": [
    "m_dict.get(\"xz3\")"
   ]
  },
  {
   "cell_type": "code",
   "execution_count": 33,
   "id": "5db05c1d-6cc4-4d87-b1ce-4ee22b4dddd6",
   "metadata": {},
   "outputs": [
    {
     "data": {
      "text/plain": [
       "dict_keys(['brnad', 'model', 'year'])"
      ]
     },
     "execution_count": 33,
     "metadata": {},
     "output_type": "execute_result"
    }
   ],
   "source": [
    "m_dict.keys()"
   ]
  },
  {
   "cell_type": "code",
   "execution_count": 34,
   "id": "66470c71-edbf-4721-a49d-303e14bd22e7",
   "metadata": {},
   "outputs": [
    {
     "data": {
      "text/plain": [
       "dict_values(['Nike', 'xz3', 1965])"
      ]
     },
     "execution_count": 34,
     "metadata": {},
     "output_type": "execute_result"
    }
   ],
   "source": [
    "m_dict.values()"
   ]
  },
  {
   "cell_type": "code",
   "execution_count": 36,
   "id": "965fdf6d-b7af-4a48-bd03-9e58cddca28b",
   "metadata": {},
   "outputs": [
    {
     "data": {
      "text/plain": [
       "22"
      ]
     },
     "execution_count": 36,
     "metadata": {},
     "output_type": "execute_result"
    }
   ],
   "source": [
    "def gcd(num1, num2):\n",
    "    "
   ]
  }
 ],
 "metadata": {
  "kernelspec": {
   "display_name": "Python 3 (ipykernel)",
   "language": "python",
   "name": "python3"
  },
  "language_info": {
   "codemirror_mode": {
    "name": "ipython",
    "version": 3
   },
   "file_extension": ".py",
   "mimetype": "text/x-python",
   "name": "python",
   "nbconvert_exporter": "python",
   "pygments_lexer": "ipython3",
   "version": "3.11.7"
  }
 },
 "nbformat": 4,
 "nbformat_minor": 5
}
